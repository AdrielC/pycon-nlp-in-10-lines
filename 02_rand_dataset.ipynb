{
 "cells": [
  {
   "cell_type": "markdown",
   "metadata": {},
   "source": [
    "# RAND dataset analysis"
   ]
  },
  {
   "cell_type": "markdown",
   "metadata": {
    "collapsed": false
   },
   "source": [
    "## Open task on the RAND Terrorism Dataset"
   ]
  },
  {
   "cell_type": "markdown",
   "metadata": {},
   "source": [
    "This is an open challenge to apply what you have learnt analysing Pride and Prejudice with spaCy on a dataset of real events. We have preprocessed the [RAND Terrorism Dataset]((http://www.rand.org/nsrd/projects/terrorism-incidents.html) for this task reducing the data to 10033 articles from 1968 to 2009.\n",
    "\n",
    "Can you find out the following using the code you have written?\n",
    "- Who are the terrorist groups and other persons mentioned in each article?\n",
    "- What locations are mentioned in each article? Hint: a location just has a different label to a person\n",
    "- From all of your entities, can you find out which named entities are terrorists from the syntactic relationships?\n",
    "- With all of this information, can you plot a figure expressing the relationships between locations and terrorists?\n",
    "\n",
    "There are no right answers to any of these questions, and there might not even be an answer at all."
   ]
  },
  {
   "cell_type": "code",
   "execution_count": 40,
   "metadata": {
    "collapsed": false
   },
   "outputs": [],
   "source": [
    "# To get you started we can import Pandas and Seaborn which might help you\n",
    "# build a graph or visualisation of the data\n",
    "% matplotlib inline\n",
    "\n",
    "from collections import defaultdict, Counter\n",
    "\n",
    "import matplotlib.pyplot as plt\n",
    "import matplotlib as mpl\n",
    "import pandas as pd\n",
    "import seaborn as sns\n",
    "import spacy\n",
    "\n",
    "nlp = spacy.load('en')\n",
    "\n",
    "def read_file(file_name):\n",
    "    with open(file_name, 'r') as file:\n",
    "        return file.read()\n",
    "\n",
    "def read_file_to_list(file_name):\n",
    "    with open(file_name, 'r') as file:\n",
    "        return file.readlines()\n",
    "\n",
    "# The file has been re-encoded in UTF-8, the source encoding is Latin-1\n",
    "terrorism_articles = read_file_to_list('data/rand-terrorism-dataset.txt')\n",
    "terrorism_articles_nlp = [nlp(art) for art in terrorism_articles]"
   ]
  },
  {
   "cell_type": "code",
   "execution_count": 46,
   "metadata": {
    "collapsed": false
   },
   "outputs": [
    {
     "ename": "AttributeError",
     "evalue": "'spacy.tokens.doc.Doc' object has no attribute 'join'",
     "output_type": "error",
     "traceback": [
      "\u001b[0;31m---------------------------------------------------------------------------\u001b[0m",
      "\u001b[0;31mAttributeError\u001b[0m                            Traceback (most recent call last)",
      "\u001b[0;32m<ipython-input-46-cc3239851f9b>\u001b[0m in \u001b[0;36m<module>\u001b[0;34m()\u001b[0m\n\u001b[0;32m----> 1\u001b[0;31m \u001b[0mtest\u001b[0m \u001b[0;34m=\u001b[0m \u001b[0mnlp\u001b[0m\u001b[0;34m(\u001b[0m\u001b[0;34m' '\u001b[0m\u001b[0;34m)\u001b[0m\u001b[0;34m.\u001b[0m\u001b[0mjoin\u001b[0m\u001b[0;34m(\u001b[0m\u001b[0mterrorism_articles_nlp\u001b[0m\u001b[0;34m)\u001b[0m\u001b[0;34m\u001b[0m\u001b[0m\n\u001b[0m",
      "\u001b[0;31mAttributeError\u001b[0m: 'spacy.tokens.doc.Doc' object has no attribute 'join'"
     ]
    }
   ],
   "source": [
    "test = nlp(' ').join(terrorism_articles_nlp)"
   ]
  },
  {
   "cell_type": "markdown",
   "metadata": {},
   "source": [
    "#### Example output using the full ~40,000 article dataset\n",
    "\n",
    "![Heatmap of terrorist group and country](images/example_output_full.png)"
   ]
  },
  {
   "cell_type": "markdown",
   "metadata": {},
   "source": [
    "## Example solution"
   ]
  },
  {
   "cell_type": "markdown",
   "metadata": {},
   "source": [
    "### Define some geographical areas and groups to inspect\n",
    "\n",
    "These are commonly mentioned in the full dataset, which you can prove for yourself using the same approaches as in the previous tutorial for Pride and Prejudice. You can process the full dataset at once into one spaCy span using the read_file() function. "
   ]
  },
  {
   "cell_type": "code",
   "execution_count": 41,
   "metadata": {
    "collapsed": false
   },
   "outputs": [],
   "source": [
    "common_terr = ['taliban','al - qaeda','hamas','fatah','plo','bilad al - rafidayn']\n",
    "common_locs = ['iraq','baghdad','kirkuk','mosul','afghanistan','kabul','basra','palestine','gaza','israel','istanbul','beirut','pakistan']"
   ]
  },
  {
   "cell_type": "markdown",
   "metadata": {},
   "source": [
    "## Inspect each article for mentions of groups and locations"
   ]
  },
  {
   "cell_type": "code",
   "execution_count": 39,
   "metadata": {
    "collapsed": false
   },
   "outputs": [
    {
     "data": {
      "text/plain": [
       "11"
      ]
     },
     "execution_count": 39,
     "metadata": {},
     "output_type": "execute_result"
    }
   ],
   "source": [
    "location_entity_dict = defaultdict(Counter)\n",
    "\n",
    "for article in terrorism_articles_nlp:\n",
    "    #Get all the groups and locations in the article\n",
    "    article_ents = [ent.lemma_ for ent in article.ents if ent.label_ == 'PERSON' or ent.label_ == 'ORG']\n",
    "    article_locs = [ent.lemma_ for ent in article.ents if ent.label_ =='GPE']\n",
    "\n",
    "    #Filter groups and locations for only those which we are interested in\n",
    "    ents_filtered = [ent for ent in article_ents if ent in common_terr]\n",
    "    locs_filtered = [loc for loc in article_locs if loc in common_locs]\n",
    "\n",
    "    for found_entity in ents_filtered:\n",
    "        for found_location in locs_filtered:\n",
    "            location_entity_dict[found_entity][found_location]+=1\n",
    "\n",
    "# Let's inspect a specific combination as a cursory check on the for loop operating correctly\n",
    "location_entity_dict['plo']['beirut']"
   ]
  },
  {
   "cell_type": "markdown",
   "metadata": {},
   "source": [
    "## Transform defaultdict to a Pandas DataFrame"
   ]
  },
  {
   "cell_type": "code",
   "execution_count": 36,
   "metadata": {
    "collapsed": false
   },
   "outputs": [
    {
     "data": {
      "text/html": [
       "<div>\n",
       "<table border=\"1\" class=\"dataframe\">\n",
       "  <thead>\n",
       "    <tr style=\"text-align: right;\">\n",
       "      <th></th>\n",
       "      <th>al - qaeda</th>\n",
       "      <th>bilad al - rafidayn</th>\n",
       "      <th>fatah</th>\n",
       "      <th>hamas</th>\n",
       "      <th>plo</th>\n",
       "      <th>taliban</th>\n",
       "    </tr>\n",
       "  </thead>\n",
       "  <tbody>\n",
       "    <tr>\n",
       "      <th>afghanistan</th>\n",
       "      <td>6</td>\n",
       "      <td>0</td>\n",
       "      <td>0</td>\n",
       "      <td>0</td>\n",
       "      <td>0</td>\n",
       "      <td>260</td>\n",
       "    </tr>\n",
       "    <tr>\n",
       "      <th>baghdad</th>\n",
       "      <td>20</td>\n",
       "      <td>31</td>\n",
       "      <td>0</td>\n",
       "      <td>0</td>\n",
       "      <td>0</td>\n",
       "      <td>0</td>\n",
       "    </tr>\n",
       "    <tr>\n",
       "      <th>basra</th>\n",
       "      <td>0</td>\n",
       "      <td>4</td>\n",
       "      <td>0</td>\n",
       "      <td>0</td>\n",
       "      <td>0</td>\n",
       "      <td>0</td>\n",
       "    </tr>\n",
       "    <tr>\n",
       "      <th>beirut</th>\n",
       "      <td>0</td>\n",
       "      <td>0</td>\n",
       "      <td>1</td>\n",
       "      <td>1</td>\n",
       "      <td>11</td>\n",
       "      <td>0</td>\n",
       "    </tr>\n",
       "    <tr>\n",
       "      <th>gaza</th>\n",
       "      <td>0</td>\n",
       "      <td>0</td>\n",
       "      <td>11</td>\n",
       "      <td>70</td>\n",
       "      <td>0</td>\n",
       "      <td>0</td>\n",
       "    </tr>\n",
       "    <tr>\n",
       "      <th>iraq</th>\n",
       "      <td>53</td>\n",
       "      <td>23</td>\n",
       "      <td>1</td>\n",
       "      <td>0</td>\n",
       "      <td>6</td>\n",
       "      <td>0</td>\n",
       "    </tr>\n",
       "    <tr>\n",
       "      <th>israel</th>\n",
       "      <td>1</td>\n",
       "      <td>0</td>\n",
       "      <td>16</td>\n",
       "      <td>21</td>\n",
       "      <td>19</td>\n",
       "      <td>0</td>\n",
       "    </tr>\n",
       "    <tr>\n",
       "      <th>istanbul</th>\n",
       "      <td>3</td>\n",
       "      <td>0</td>\n",
       "      <td>0</td>\n",
       "      <td>0</td>\n",
       "      <td>0</td>\n",
       "      <td>0</td>\n",
       "    </tr>\n",
       "    <tr>\n",
       "      <th>kabul</th>\n",
       "      <td>3</td>\n",
       "      <td>0</td>\n",
       "      <td>0</td>\n",
       "      <td>0</td>\n",
       "      <td>0</td>\n",
       "      <td>57</td>\n",
       "    </tr>\n",
       "    <tr>\n",
       "      <th>kirkuk</th>\n",
       "      <td>5</td>\n",
       "      <td>0</td>\n",
       "      <td>0</td>\n",
       "      <td>0</td>\n",
       "      <td>0</td>\n",
       "      <td>0</td>\n",
       "    </tr>\n",
       "    <tr>\n",
       "      <th>mosul</th>\n",
       "      <td>16</td>\n",
       "      <td>4</td>\n",
       "      <td>0</td>\n",
       "      <td>0</td>\n",
       "      <td>0</td>\n",
       "      <td>0</td>\n",
       "    </tr>\n",
       "    <tr>\n",
       "      <th>pakistan</th>\n",
       "      <td>6</td>\n",
       "      <td>0</td>\n",
       "      <td>0</td>\n",
       "      <td>0</td>\n",
       "      <td>0</td>\n",
       "      <td>14</td>\n",
       "    </tr>\n",
       "    <tr>\n",
       "      <th>palestine</th>\n",
       "      <td>2</td>\n",
       "      <td>4</td>\n",
       "      <td>0</td>\n",
       "      <td>1</td>\n",
       "      <td>3</td>\n",
       "      <td>0</td>\n",
       "    </tr>\n",
       "  </tbody>\n",
       "</table>\n",
       "</div>"
      ],
      "text/plain": [
       "             al - qaeda  bilad al - rafidayn  fatah  hamas  plo  taliban\n",
       "afghanistan           6                    0      0      0    0      260\n",
       "baghdad              20                   31      0      0    0        0\n",
       "basra                 0                    4      0      0    0        0\n",
       "beirut                0                    0      1      1   11        0\n",
       "gaza                  0                    0     11     70    0        0\n",
       "iraq                 53                   23      1      0    6        0\n",
       "israel                1                    0     16     21   19        0\n",
       "istanbul              3                    0      0      0    0        0\n",
       "kabul                 3                    0      0      0    0       57\n",
       "kirkuk                5                    0      0      0    0        0\n",
       "mosul                16                    4      0      0    0        0\n",
       "pakistan              6                    0      0      0    0       14\n",
       "palestine             2                    4      0      1    3        0"
      ]
     },
     "execution_count": 36,
     "metadata": {},
     "output_type": "execute_result"
    }
   ],
   "source": [
    "# Transform the dictionary into a pandas DataFrame and fill NaN values with zeroes\n",
    "le_df = pd.DataFrame.from_dict(dict(location_entity_dict),dtype=int)\n",
    "le_df = df.fillna(value=0).astype(int)\n",
    "\n",
    "# Show DF to console\n",
    "le_df"
   ]
  },
  {
   "cell_type": "code",
   "execution_count": 35,
   "metadata": {
    "collapsed": false
   },
   "outputs": [
    {
     "data": {
      "image/png": "[encoded data removed]",
      "text/plain": [
       "<matplotlib.figure.Figure at 0x115b380f0>"
      ]
     },
     "metadata": {},
     "output_type": "display_data"
    }
   ],
   "source": [
    "# Seaborn can transform a DataFrame directly into a figure\n",
    "\n",
    "plt.figure()\n",
    "map = sns.heatmap(df,annot=True,fmt='d',cmap='YlGnBu',cbar=False)\n",
    "\n",
    "# Add features using the under the hood plt interface\n",
    "plt.title('Global Incidents by Terrorist group')\n",
    "plt.xticks(rotation=30)\n",
    "plt.show()"
   ]
  }
 ],
 "metadata": {
  "kernelspec": {
   "display_name": "Python 3",
   "language": "python",
   "name": "python3"
  },
  "language_info": {
   "codemirror_mode": {
    "name": "ipython",
    "version": 3
   },
   "file_extension": ".py",
   "mimetype": "text/x-python",
   "name": "python",
   "nbconvert_exporter": "python",
   "pygments_lexer": "ipython3",
   "version": "3.5.2"
  }
 },
 "nbformat": 4,
 "nbformat_minor": 1
}
