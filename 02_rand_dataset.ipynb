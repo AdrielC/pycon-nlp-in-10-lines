{
 "cells": [
  {
   "cell_type": "markdown",
   "metadata": {},
   "source": [
    "# RAND dataset analysis"
   ]
  },
  {
   "cell_type": "markdown",
   "metadata": {
    "collapsed": false
   },
   "source": [
    "## Open task on the RAND Terrorism Dataset"
   ]
  },
  {
   "cell_type": "markdown",
   "metadata": {},
   "source": [
    "This is an open challenge to apply what you have learnt analysing Pride and Prejudice with spaCy on a dataset of real events. We have preprocessed the [RAND Terrorism Dataset]((http://www.rand.org/nsrd/projects/terrorism-incidents.html) for this task reducing the data to 10033 articles from 1968 to 2009.\n",
    "\n",
    "Can you find out the following using the code you have written?\n",
    "- Who are the terrorist groups and other persons mentioned in each article?\n",
    "- What locations are mentioned in each article? Hint: a location just has a different label to a person\n",
    "- From all of your entities, can you find out which named entities are terrorists from the syntactic relationships?\n",
    "- With all of this information, can you plot a figure expressing the relationships between locations and terrorists?\n",
    "\n",
    "There are no right answers to any of these questions, and there might not even be an answer at all."
   ]
  },
  {
   "cell_type": "code",
   "execution_count": null,
   "metadata": {
    "collapsed": false
   },
   "outputs": [],
   "source": [
    "# To get you started we can import Pandas and Seaborn which might help you\n",
    "# build a graph or visualisation of the data\n",
    "\n",
    "import pandas as pd\n",
    "import seaborn as sns\n",
    "import spacy\n",
    "\n",
    "nlp = spacy.load('en')\n",
    "\n",
    "def read_file(file_name):\n",
    "    with open(file_name, 'r') as file:\n",
    "        return file.read().decode('utf-8')\n",
    "\n",
    "terrorism_file = read_file('data/rand-terrorism-dataset.txt')\n",
    "terrorism_articles = nlp(terrorism_file)"
   ]
  },
  {
   "cell_type": "markdown",
   "metadata": {},
   "source": [
    "#### Example output using Pandas and Seaborn\n",
    "\n",
    "![Heatmap of terrorist group and country](images/example_output.png)"
   ]
  }
 ],
 "metadata": {
  "kernelspec": {
   "display_name": "Python 2",
   "language": "python",
   "name": "python2"
  },
  "language_info": {
   "codemirror_mode": {
    "name": "ipython",
    "version": 2
   },
   "file_extension": ".py",
   "mimetype": "text/x-python",
   "name": "python",
   "nbconvert_exporter": "python",
   "pygments_lexer": "ipython2",
   "version": "2.7.10"
  }
 },
 "nbformat": 4,
 "nbformat_minor": 1
}
